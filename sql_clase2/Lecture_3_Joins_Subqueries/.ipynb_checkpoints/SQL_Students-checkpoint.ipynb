{
 "cells": [
  {
   "cell_type": "markdown",
   "metadata": {},
   "source": [
    "# SQL Parte 2:\n",
    "\n",
    "## Objetivos:\n",
    "    1. Conectarnos a una base de datos desde Python.\n",
    "    2. Enviar un query a la base de datos y exportarlo como un dataframe de pandas.\n",
    "    3. Introducción a joins entre tablas.\n",
    "        3.1 Teoría de Conjuntos\n",
    "        3.2 Joins.\n",
    "    4. Consideraciones: Subqueries. \n",
    "    \n",
    " \n",
    " \n",
    " ### 1. Conectarnos a una base de datos desde Python. \n",
    "     \n",
    "En las sesiones anteriores, emulamos la conexión a una base de datos relacional importando un csv. En esta ocasión, utilizaremos el datasest _pseudo-real_ de employees. Este dataset se ha utilizado para pruebas de _benchmarking_ tanto en análisis como en desempeño.  Nosotros lo utilizaremos para establecer una conexión remota y para introducir algunas consideraciones sobre cómo hacer que nuestros queries sean más eficientes.\n",
    "\n",
    "Pueden encontrar más información del mismo acá: \n",
    "\n",
    "https://relational.fit.cvut.cz/dataset/Employee\n",
    "https://www.percona.com/blog/2011/02/01/sample-datasets-for-benchmarking-and-testing/\n",
    "\n",
    "Para realizar esta conexión, utilizaremos la librería *mysql.connector*, la cual pueden instalar en el ambiente del curso por medio de Anaconda. \n",
    "\n"
   ]
  },
  {
   "cell_type": "code",
   "execution_count": 1,
   "metadata": {},
   "outputs": [],
   "source": [
    "import pandas as pd"
   ]
  },
  {
   "cell_type": "markdown",
   "metadata": {},
   "source": [
    "Creamos una función la cual tendrá como parámetros lo necesario para poder establecer la conexión al SQL:"
   ]
  },
  {
   "cell_type": "code",
   "execution_count": 2,
   "metadata": {},
   "outputs": [],
   "source": [
    "import mysql.connector\n",
    "from mysql.connector import Error\n",
    "\n",
    "def create_connection(host_name, user_name, user_password):\n",
    "    connection = None\n",
    "    try:\n",
    "        connection = mysql.connector.connect(\n",
    "            host=host_name,\n",
    "            user=user_name,\n",
    "            passwd=user_password\n",
    "        )\n",
    "        print(\"Connection to MySQL DB successful\")\n",
    "    except Error as e:\n",
    "        print(f\"The error '{e}' occurred\")\n",
    "\n",
    "    return connection"
   ]
  },
  {
   "cell_type": "code",
   "execution_count": 3,
   "metadata": {},
   "outputs": [
    {
     "name": "stdout",
     "output_type": "stream",
     "text": [
      "Connection to MySQL DB successful\n"
     ]
    }
   ],
   "source": [
    "host = \"relational.fit.cvut.cz\"\n",
    "user = \"guest\"\n",
    "pwd = \"relational\"\n",
    "connection = create_connection(host_name = host, user_name =user ,user_password = pwd)"
   ]
  },
  {
   "cell_type": "markdown",
   "metadata": {},
   "source": [
    "### 2. Enviar un query a la base de datos y obtenerlo como un dataframe de Pandas:\n",
    "\n",
    "    Utilizaremos la función read_sql de pandas para obtener los resultados de nuestros querys: "
   ]
  },
  {
   "cell_type": "code",
   "execution_count": 4,
   "metadata": {},
   "outputs": [
    {
     "data": {
      "text/html": [
       "<div>\n",
       "<style scoped>\n",
       "    .dataframe tbody tr th:only-of-type {\n",
       "        vertical-align: middle;\n",
       "    }\n",
       "\n",
       "    .dataframe tbody tr th {\n",
       "        vertical-align: top;\n",
       "    }\n",
       "\n",
       "    .dataframe thead th {\n",
       "        text-align: right;\n",
       "    }\n",
       "</style>\n",
       "<table border=\"1\" class=\"dataframe\">\n",
       "  <thead>\n",
       "    <tr style=\"text-align: right;\">\n",
       "      <th></th>\n",
       "      <th>Tables_in_employee</th>\n",
       "    </tr>\n",
       "  </thead>\n",
       "  <tbody>\n",
       "    <tr>\n",
       "      <th>0</th>\n",
       "      <td>departments</td>\n",
       "    </tr>\n",
       "    <tr>\n",
       "      <th>1</th>\n",
       "      <td>dept_emp</td>\n",
       "    </tr>\n",
       "    <tr>\n",
       "      <th>2</th>\n",
       "      <td>dept_manager</td>\n",
       "    </tr>\n",
       "    <tr>\n",
       "      <th>3</th>\n",
       "      <td>employees</td>\n",
       "    </tr>\n",
       "    <tr>\n",
       "      <th>4</th>\n",
       "      <td>salaries</td>\n",
       "    </tr>\n",
       "    <tr>\n",
       "      <th>5</th>\n",
       "      <td>titles</td>\n",
       "    </tr>\n",
       "  </tbody>\n",
       "</table>\n",
       "</div>"
      ],
      "text/plain": [
       "  Tables_in_employee\n",
       "0        departments\n",
       "1           dept_emp\n",
       "2       dept_manager\n",
       "3          employees\n",
       "4           salaries\n",
       "5             titles"
      ]
     },
     "execution_count": 4,
     "metadata": {},
     "output_type": "execute_result"
    }
   ],
   "source": [
    "query = \"SHOW TABLES from employee;\"\n",
    "tables = pd.read_sql(query,connection)\n",
    "tables"
   ]
  },
  {
   "cell_type": "code",
   "execution_count": null,
   "metadata": {},
   "outputs": [],
   "source": [
    "query = \"select * from employee.employees limit 10;\"\n",
    "employees = pd.read_sql(query,connection)"
   ]
  },
  {
   "cell_type": "code",
   "execution_count": null,
   "metadata": {
    "scrolled": true
   },
   "outputs": [],
   "source": [
    "employees"
   ]
  },
  {
   "cell_type": "code",
   "execution_count": null,
   "metadata": {},
   "outputs": [],
   "source": [
    "query = \"select * from employee.salaries limit 10;\"\n",
    "salaries = pd.read_sql(query,connection)\n",
    "salaries"
   ]
  },
  {
   "cell_type": "code",
   "execution_count": null,
   "metadata": {},
   "outputs": [],
   "source": [
    "query = \"select * from employee.titles limit 10;\"\n",
    "titles = pd.read_sql(query,connection)\n",
    "titles"
   ]
  },
  {
   "cell_type": "code",
   "execution_count": null,
   "metadata": {},
   "outputs": [],
   "source": [
    "query = \"select * from employee.departments limit 10;\"\n",
    "departments = pd.read_sql(query,connection)\n",
    "departments"
   ]
  },
  {
   "cell_type": "code",
   "execution_count": null,
   "metadata": {},
   "outputs": [],
   "source": [
    "query = \"select * from employee.dept_emp limit 10;\"\n",
    "dept_emp = pd.read_sql(query,connection)\n",
    "dept_emp"
   ]
  },
  {
   "cell_type": "markdown",
   "metadata": {},
   "source": [
    "### 3. Introducción a Joins entre tablas:\n",
    "\n",
    "#### Teoría de conjuntos: \n",
    "    Conjunto: \n",
    "        -Una colección de distintos elementos (Tsitsiklis).\n",
    "        -Una agrupación, colección o reunión de objeto que cumplen una propiedad determinada.\n",
    "    \n",
    "    A los objetos del conjunto se denominan elementos. \n",
    "    \n",
    "    \n",
    "#### Ejemplos:\n",
    "    1. El conjunto de estudiantes de data wrangling.\n",
    "    2. El conjunto de letras de \"data wrangling\". \n",
    "    \n",
    "#### Notación: \n",
    "    Los conjuntos se denotan con letras mayúsculas del alfabeto. Los elementos se escriben dentro de llaves.\n",
    "    \n",
    "    A = El conjunto de estudiantes de data wrangling. \n",
    "    B = El conjunto de letras de \"data wrangling\".\n",
    "    \n",
    "#### Determinación de conjuntos: \n",
    "    Extensión: se enumeran o se nombran los elementos del conjunto.\n",
    "        B = {d,a,t,w,r,n,g,l} \n",
    "    Comprensión: Se enuncia la propiedad o la cualidad que distingue a los elementos.\n",
    "        B = {x/ x es una letra de las palabras \"data wrangling\"}\n",
    "    \n",
    "\n",
    "#### Conjuntos especiales\n",
    "\n",
    "        Conjunto vacío: aquel en el que ningún elemento cumple con la propiedad conocida como la regla de elegibilidad. \n",
    "        (Para cada familia de conjuntos, existe otro conjunto que contiene un elemento de cada uno de aquellos.)\n",
    "\n",
    "    (Ver axioma de existencia) \n",
    "\n",
    "#### Propiedades de los conjuntos \n",
    "\n",
    "<img src=\"set_theory.png\" />\n",
    "\n",
    "- La intersección de conjuntos es conmutativa.\n",
    "- La intersección de conjuntos es asociativa. \n",
    "- La intersección es distributiva respecto a la unión.\n",
    "- La unión es distributiva respecto a la intersección.\n",
    "- La unión de un conjunto con el universo es el universo.\n",
    "- La intersección de un conjunto con su complemento es el conjunto vacío.\n",
    "\n",
    "\n",
    "\n",
    "#### Joins entre tablas. \n",
    "\n",
    "Una de las aplicaciones más palpables de teoría de conjuntos en la ciencia de datos (aparte de teoría de probabilidad) es en manipulación y union entre sets de datos. De cierta manera, podemos pensar en nuestras colecciones de datos como conjuntos de elementos que comparten ciertas características en común. Sin embargo, estas características están dispersas en varias fuentes de información y parte previa al análisis es el proceso de consolidación, por lo cual se vuelve necesario realizar operaciones de conjuntos con ellos. \n",
    "\n",
    "Para esto, utilizaremos las keywords JOIN de SQL.\n",
    "\n",
    "\n",
    "<img src=\"joins.jpg\" />\n",
    "\n",
    "\n"
   ]
  },
  {
   "cell_type": "markdown",
   "metadata": {},
   "source": [
    "### Ejemplo 1: A cada empleado, agregarle todos sus títulos y su vigencia."
   ]
  },
  {
   "cell_type": "code",
   "execution_count": null,
   "metadata": {},
   "outputs": [],
   "source": [
    "%%time\n",
    "### empleados y títulos \n",
    "query = \"\"\" SELECT\n",
    "                A.emp_no,\n",
    "                A.first_name,\n",
    "                A.last_name,\n",
    "                B.title,\n",
    "                B.from_date,\n",
    "                B.to_date\n",
    "         FROM employee.employees A  \n",
    "         LEFT JOIN employee.titles B on A.emp_no = B.emp_no\n",
    "         WHERE A.emp_no = 11080\n",
    "\"\"\"\n",
    "emp_titles = pd.read_sql(query,connection)\n",
    "emp_titles"
   ]
  },
  {
   "cell_type": "markdown",
   "metadata": {},
   "source": [
    "### Ejercicio 1: \n",
    "\n",
    "Obtener el nombre, apellido,salario, titulo y vigencia del mismo para el empleado 12557. \n",
    "Su resultado se debe de ver de la siguiente manera:\n",
    "\n",
    "<img src=\"ejercicio_1.png\" />\n"
   ]
  },
  {
   "cell_type": "code",
   "execution_count": null,
   "metadata": {},
   "outputs": [],
   "source": [
    "query = \"\"\"\n",
    "\"\"\"\n",
    "emp_12557 = pd.read_sql(query,connection)\n",
    "emp_12557"
   ]
  },
  {
   "cell_type": "markdown",
   "metadata": {},
   "source": [
    "## Subqueries"
   ]
  },
  {
   "cell_type": "markdown",
   "metadata": {},
   "source": [
    "### Ejemplo 2: Obtener el salario máximo por empleado."
   ]
  },
  {
   "cell_type": "markdown",
   "metadata": {},
   "source": [
    "### Paso 1: Armar un query con el salario máximo por empleado."
   ]
  },
  {
   "cell_type": "code",
   "execution_count": null,
   "metadata": {},
   "outputs": [],
   "source": [
    "%%time\n",
    "query = \"\"\"\n",
    "        SELECT\n",
    "            emp_no\n",
    "            ,MAX(salary) max_salary\n",
    "        FROM employee.salaries\n",
    "        GROUP BY 1\n",
    "        LIMIT 100\n",
    "        \"\"\"\n",
    "inner_table =pd.read_sql(query,connection)"
   ]
  },
  {
   "cell_type": "markdown",
   "metadata": {},
   "source": [
    "### Paso 2: Estructura general de un subquery"
   ]
  },
  {
   "cell_type": "code",
   "execution_count": null,
   "metadata": {},
   "outputs": [],
   "source": [
    "####\n",
    "\n",
    "query = \"\"\"\n",
    "        SELECT \n",
    "        B.first_name\n",
    "        ,B.last_name, \n",
    "        A.* \n",
    "        FROM (#inner_table) A\n",
    "        LEFT JOIN employee.employees B on A.emp_no = B.emp_no \n",
    "        \"\"\"\n",
    "subquery = pd.read_sql(query,connection)"
   ]
  },
  {
   "cell_type": "markdown",
   "metadata": {},
   "source": [
    "### Ejercicio 2: Encontrar el último departamento en el que trabajó el empleado con la información del mismo."
   ]
  },
  {
   "cell_type": "code",
   "execution_count": null,
   "metadata": {},
   "outputs": [],
   "source": [
    "%%time\n",
    "query = \"\"\"\n",
    "\n",
    "\"\"\"\n",
    "pd.read_sql(query,connection)\n"
   ]
  },
  {
   "cell_type": "markdown",
   "metadata": {},
   "source": [
    "### Partition By "
   ]
  },
  {
   "cell_type": "code",
   "execution_count": null,
   "metadata": {},
   "outputs": [],
   "source": [
    "query = \"\"\"\n",
    "    SELECT\n",
    "            A.emp_no\n",
    "            ,A.birth_date\n",
    "            ,A.first_name\n",
    "            ,A.last_name\n",
    "            ,A.gender\n",
    "            ,C.dept_name\n",
    "            ,ROW_NUMBER() OVER (PARTITION BY A.emp_no ORDER BY B.from_date DESC) AS seq\n",
    "        FROM employee.employees A\n",
    "        LEFT JOIN employee.dept_emp B ON B.emp_no = A.emp_no\n",
    "        LEFT JOIN employee.departments C ON C.dept_no = B.dept_no\n",
    "        GROUP BY 1,2,3,4,5,6\n",
    "        LIMIT 100\n",
    "\"\"\"\n",
    "pd.read_sql(query,connection)"
   ]
  },
  {
   "cell_type": "code",
   "execution_count": null,
   "metadata": {},
   "outputs": [],
   "source": [
    "%%time\n",
    "query = \"\"\"\n",
    "    SELECT *\n",
    "    FROM (\n",
    "        SELECT\n",
    "            A.emp_no\n",
    "            ,A.birth_date\n",
    "            ,A.first_name\n",
    "            ,A.last_name\n",
    "            ,A.gender\n",
    "            ,C.dept_name\n",
    "            ,ROW_NUMBER() OVER (PARTITION BY A.emp_no ORDER BY B.from_date DESC) AS seq\n",
    "        FROM employee.employees A\n",
    "        LEFT JOIN employee.dept_emp B ON B.emp_no = A.emp_no\n",
    "        LEFT JOIN employee.departments C ON C.dept_no = B.dept_no\n",
    "        GROUP BY 1,2,3,4,5,6\n",
    "    ) A\n",
    "    WHERE seq = 1\n",
    "    LIMIT 100\n",
    "\"\"\"\n",
    "pd.read_sql(query,connection)"
   ]
  },
  {
   "cell_type": "markdown",
   "metadata": {},
   "source": [
    "### Ejercicio 3: Encontrar el salario máximo utilizando el Partition By"
   ]
  },
  {
   "cell_type": "code",
   "execution_count": null,
   "metadata": {},
   "outputs": [],
   "source": [
    "query = \"\"\"\n",
    "\n",
    "\"\"\"\n",
    "pd.read_sql(query,connection)"
   ]
  },
  {
   "cell_type": "markdown",
   "metadata": {},
   "source": [
    "### CASE WHEN "
   ]
  },
  {
   "cell_type": "code",
   "execution_count": null,
   "metadata": {},
   "outputs": [],
   "source": [
    "%%time\n",
    "query = \"\"\"\n",
    "    SELECT\n",
    "        YEAR(birth_date)\n",
    "        ,SUM(CASE WHEN gender = 'M' THEN B.salary END) as Male_Salary\n",
    "        ,SUM(CASE WHEN gender = 'F' THEN B.salary END) as Female_Salary\n",
    "    FROM employee.employees A\n",
    "    LEFT JOIN employee.salaries B ON B.emp_no = A.emp_no\n",
    "    GROUP BY 1\n",
    "\"\"\"\n",
    "pd.read_sql(query,connection)\n"
   ]
  },
  {
   "cell_type": "markdown",
   "metadata": {},
   "source": [
    "### Ejercicio 4: Usando la tabla del máximo salario, encontrar la suma de salarios por departamentos"
   ]
  },
  {
   "cell_type": "code",
   "execution_count": null,
   "metadata": {
    "scrolled": true
   },
   "outputs": [],
   "source": [
    "%%time\n",
    "query = \"\"\"\n",
    "\n",
    "\"\"\"\n",
    "pd.read_sql(query,connection)"
   ]
  }
 ],
 "metadata": {
  "kernelspec": {
   "display_name": "Python 3",
   "language": "python",
   "name": "python3"
  },
  "language_info": {
   "codemirror_mode": {
    "name": "ipython",
    "version": 3
   },
   "file_extension": ".py",
   "mimetype": "text/x-python",
   "name": "python",
   "nbconvert_exporter": "python",
   "pygments_lexer": "ipython3",
   "version": "3.7.11"
  }
 },
 "nbformat": 4,
 "nbformat_minor": 2
}
