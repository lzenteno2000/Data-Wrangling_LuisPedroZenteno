{
 "cells": [
  {
   "cell_type": "markdown",
   "id": "fc6aeda4",
   "metadata": {},
   "source": [
    "# Laboratorio 6 \n",
    "# Luis Pedro Zenteno"
   ]
  },
  {
   "cell_type": "code",
   "execution_count": 2,
   "id": "2c9f664d",
   "metadata": {},
   "outputs": [],
   "source": [
    "import numpy as np\n",
    "import pandas as pd\n",
    "import re"
   ]
  },
  {
   "cell_type": "markdown",
   "id": "adbe769f",
   "metadata": {},
   "source": [
    "## 1.Genere una expresión regular que sea capaz de detectar las placas de un vehículo particular guatemalteco."
   ]
  },
  {
   "cell_type": "code",
   "execution_count": 7,
   "id": "f8a53f33",
   "metadata": {},
   "outputs": [
    {
     "name": "stdout",
     "output_type": "stream",
     "text": [
      "['P358HHK', 'P546KGF']\n"
     ]
    }
   ],
   "source": [
    "regex_1= re.compile('^P[0-9]{3}[A-Z]{3}$')\n",
    "vector1= [\"P358HHK\",\"P45HK\",\"P546KGF\",\"356KKF\"]\n",
    "respuesta=list(filter(regex_1.match, vector1))\n",
    "print(respuesta)"
   ]
  },
  {
   "cell_type": "markdown",
   "id": "b02a77ed",
   "metadata": {},
   "source": [
    "##  2.\tGenere una expresión regular que valide si un archivo es de tipo .pdf o jpg."
   ]
  },
  {
   "cell_type": "code",
   "execution_count": 8,
   "id": "db7bf5b5",
   "metadata": {},
   "outputs": [
    {
     "name": "stdout",
     "output_type": "stream",
     "text": [
      "['Ejemplo1.pdf', 'prueba2.PDF', 'respuestas_del_examen.jpg', 'amor.JPG']\n"
     ]
    }
   ],
   "source": [
    "regex_2= re.compile('^.*(.)(pdf|JPG|PDF|jpg)$')\n",
    "vector2= [\"Ejemplo1.pdf\", \"prueba2.PDF\", \"respuestas_del_examen.jpg\", \"amor.JPG\",\"a.png\", \"a.xlsx\",\".p\"]\n",
    "respuesta=list(filter(regex_2.match, vector2))\n",
    "print(respuesta)"
   ]
  },
  {
   "cell_type": "markdown",
   "id": "2f2663ec",
   "metadata": {},
   "source": [
    "## 3. Genere una expresión regular para validar contraseñas de correo. Una contraseña de correo debe contener por lo menos 8 caracteres, una letra mayúscula y un carácter especial."
   ]
  },
  {
   "cell_type": "code",
   "execution_count": 11,
   "id": "d5c2ca34",
   "metadata": {},
   "outputs": [
    {
     "name": "stdout",
     "output_type": "stream",
     "text": [
      "['Cumple*20']\n"
     ]
    }
   ],
   "source": [
    "regex_3= re.compile('^(?=.*[\\W])(?=.*[A-Z])[\\w\\W]{8,}$')\n",
    "vector3= [\"Cumple*20\",\"nocumple\"]\n",
    "respuesta=list(filter(regex_3.match, vector3))\n",
    "print(respuesta)"
   ]
  },
  {
   "cell_type": "markdown",
   "id": "832b96ef",
   "metadata": {},
   "source": [
    "## 4.Cree una expresión regular para validar un numero de carnet de la Universidad Galileo, por ejemplo 19002324 donde los primeros dos dígitos representan el año en el que el alumno se inscribió los cuales pueden variar desde el 01 (año 2001) hasta el 30 (año 2030). Los siguientes dos dígitos son cero (00) los cuales van por default y los últimos cuatro dígitos son un número que va desde el 1110 hasta el 8970. Para dar su respuesta utilice la notación de expresiones regulares."
   ]
  },
  {
   "cell_type": "code",
   "execution_count": 36,
   "id": "556ffbe3",
   "metadata": {},
   "outputs": [
    {
     "name": "stdout",
     "output_type": "stream",
     "text": [
      "['11002030', '30002111', '01001516', '28002984']\n"
     ]
    }
   ],
   "source": [
    "regex_4= re.compile('^(0[1-9]|[1-2][0-9]|30)00((1[1-9][1-9]\\d)|([2-7]\\d\\d\\d)|(8\\d[0-6]\\d)|(8\\d70))$')\n",
    "vector4= [\"11002030\",\"222002030\",\"30002111\",\"01001516\",\"01001\",\"28002984\"]\n",
    "respuesta=list(filter(regex_4.match, vector4))\n",
    "print(respuesta)"
   ]
  },
  {
   "attachments": {},
   "cell_type": "markdown",
   "id": "b13fea02",
   "metadata": {},
   "source": [
    "## 6.\tCree una expresión regular para obtener los números telefónicos de Guatemala. Estos pueden contener al inicio +502 o 502, pueden estar separados por un espacio en blanco o un guión o juntos. Notar que los números telefónicos pueden empezar únicamente con 4,5,6 o 2."
   ]
  },
  {
   "cell_type": "code",
   "execution_count": 39,
   "id": "0a3a06e8",
   "metadata": {},
   "outputs": [
    {
     "name": "stdout",
     "output_type": "stream",
     "text": [
      "['+50254821151', '4210-7640', '52018150', '2434 6854']\n"
     ]
    }
   ],
   "source": [
    "regex_5= re.compile('^((\\+502)|(502))?(4|5|6|2)([0-9]{3})(-| )?([0-9]{4})$')\n",
    "vector5= [\"+50254821151\", \"4210-7640\", \"52018150\", \"2434 6854\", \"11234569\", \"50211234578\"]\n",
    "respuesta=list(filter(regex_5.match, vector5))\n",
    "print(respuesta)"
   ]
  },
  {
   "attachments": {},
   "cell_type": "markdown",
   "id": "cdb54c50",
   "metadata": {},
   "source": [
    "## 7.\tGenere una expresión regular que sea capaz de obtener correos de la UFM"
   ]
  },
  {
   "cell_type": "code",
   "execution_count": 48,
   "id": "d964df36",
   "metadata": {},
   "outputs": [
    {
     "name": "stdout",
     "output_type": "stream",
     "text": [
      "['lzenteno@ufm.edu', 'melanie.guirola@ufm.edu', 'diego18@ufm.edu', 'mariana_estrada@ufm.edu']\n"
     ]
    }
   ],
   "source": [
    "regex_6= re.compile('^(\\w+)(\\.|\\-|\\_)?(\\w+)?(@ufm)(\\.)(edu)$')\n",
    "vector6= [\"lzenteno@ufm.edu\",\"lzenteno@uvg.edu\",\"lzenteno@ufm.com\",\"melanie.guirola@ufm.edu\",\"diego18@ufm.edu\",\"mariana_estrada@ufm.edu\"]\n",
    "respuesta=list(filter(regex_6.match, vector6))\n",
    "print(respuesta)"
   ]
  },
  {
   "cell_type": "code",
   "execution_count": null,
   "id": "2a9474f1",
   "metadata": {},
   "outputs": [],
   "source": []
  }
 ],
 "metadata": {
  "kernelspec": {
   "display_name": "Python 3",
   "language": "python",
   "name": "python3"
  },
  "language_info": {
   "codemirror_mode": {
    "name": "ipython",
    "version": 3
   },
   "file_extension": ".py",
   "mimetype": "text/x-python",
   "name": "python",
   "nbconvert_exporter": "python",
   "pygments_lexer": "ipython3",
   "version": "3.8.11"
  }
 },
 "nbformat": 4,
 "nbformat_minor": 5
}
